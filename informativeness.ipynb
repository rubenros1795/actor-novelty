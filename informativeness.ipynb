{
 "cells": [
  {
   "cell_type": "code",
   "execution_count": null,
   "metadata": {},
   "outputs": [],
   "source": [
    "import os\n",
    "import json\n",
    "import numpy as np\n",
    "import pandas as pd\n",
    "import matplotlib.pyplot as plt\n",
    "from matplotlib.patches import Rectangle\n",
    "import seaborn as sns\n",
    "from top2vec import Top2Vec\n",
    "from scipy.stats import zscore\n",
    "from helpers.infodynamics import InfoDynamics\n",
    "from helpers.metrics import jsd, kld, softmax\n",
    "from helpers.afa import adaptive_filter\n",
    "from tqdm import tqdm\n",
    "\n",
    "with open('config.json','r') as f:\n",
    "    cf = json.load(f)"
   ]
  },
  {
   "cell_type": "code",
   "execution_count": null,
   "metadata": {},
   "outputs": [],
   "source": [
    "pw = pd.DataFrame(ntr.tpointwise,index=sorted(list(set(timestamps)))).fillna(0.0)\n",
    "pw = pw.apply(zscore)\n",
    "pw = pw.apply(adaptive_filter)\n",
    "\n",
    "pr = pd.DataFrame(dists,index=sorted(list(set(timestamps))))\n",
    "pr = pr.apply(zscore)\n",
    "pr = pr.apply(adaptive_filter)"
   ]
  },
  {
   "cell_type": "code",
   "execution_count": null,
   "metadata": {},
   "outputs": [],
   "source": [
    "test_years = range(1952,1955)\n",
    "top_ix = pw[pw.index.year.isin(test_years)].mean().sort_values(ascending=False).index.tolist()[:4]"
   ]
  },
  {
   "cell_type": "code",
   "execution_count": null,
   "metadata": {},
   "outputs": [],
   "source": [
    "fig,axs = plt.subplots(2,2,figsize=(10,6),sharey=True,sharex=True)\n",
    "\n",
    "for c,i in enumerate(top_ix):\n",
    "    ax = axs.flatten()[c]\n",
    "\n",
    "    ax.plot(pw.index.to_timestamp(),pw[i],label='topic pointwise kl div.',color='teal')\n",
    "    ax.plot(pr.index.to_timestamp(),pr[i],label='topic prominence',color='salmon')\n",
    "\n",
    "    ax.plot(ntr_signal.index.to_timestamp(),ntr_signal.novelty,color='gold',label='novelty signal')\n",
    "    ax.tick_params(labelrotation=45)\n",
    "    ax.legend(loc='upper right')\n",
    "    ax.set_title(' '.join(keys[i].split(' ')[:4]),fontsize=10)\n",
    "\n",
    "    p1_lim = [d for d in pw.index if d.year == test_years[0]][0]\n",
    "    p2_lim = [d for d in pw.index if d.year == test_years[-1]][-1]\n",
    "\n",
    "    ax.vlines([p1_lim,p2_lim],ymin=-.75,ymax=1.75)\n",
    "\n",
    "plt.subplots_adjust(hspace=.25,wspace=.1)\n",
    "plt.suptitle('Top 4 Topics (per Average pointwise KLD) in period 1952-1954')\n",
    "plt.savefig('/home/rb/Desktop/test.png',bbox_inches='tight')\n",
    "plt.show()"
   ]
  }
 ],
 "metadata": {
  "kernelspec": {
   "display_name": "Python 3",
   "language": "python",
   "name": "python3"
  },
  "language_info": {
   "name": "python",
   "version": "3.10.6 (main, Nov 10 2011, 15:00:00) [GCC 12.1.0]"
  },
  "orig_nbformat": 4,
  "vscode": {
   "interpreter": {
    "hash": "e7370f93d1d0cde622a1f8e1c04877d8463912d04d973331ad4851f04de6915a"
   }
  }
 },
 "nbformat": 4,
 "nbformat_minor": 2
}
